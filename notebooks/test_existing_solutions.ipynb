{
 "cells": [
  {
   "cell_type": "markdown",
   "id": "d3a17eec",
   "metadata": {},
   "source": [
    "# Запуск существующих открытых решений\n",
    "\n",
    "Запускал ноутбук удаленно на Kaggle Server"
   ]
  },
  {
   "cell_type": "markdown",
   "id": "86c507b0",
   "metadata": {},
   "source": [
    "## Imports"
   ]
  },
  {
   "cell_type": "code",
   "execution_count": 1,
   "id": "03395f8e",
   "metadata": {},
   "outputs": [
    {
     "name": "stdout",
     "output_type": "stream",
     "text": [
      "Sun Sep 21 11:45:13 2025       \n",
      "+-----------------------------------------------------------------------------------------+\n",
      "| NVIDIA-SMI 560.35.03              Driver Version: 560.35.03      CUDA Version: 12.6     |\n",
      "|-----------------------------------------+------------------------+----------------------+\n",
      "| GPU  Name                 Persistence-M | Bus-Id          Disp.A | Volatile Uncorr. ECC |\n",
      "| Fan  Temp   Perf          Pwr:Usage/Cap |           Memory-Usage | GPU-Util  Compute M. |\n",
      "|                                         |                        |               MIG M. |\n",
      "|=========================================+========================+======================|\n",
      "|   0  Tesla P100-PCIE-16GB           Off |   00000000:00:04.0 Off |                    0 |\n",
      "| N/A   37C    P0             26W /  250W |       0MiB /  16384MiB |      0%      Default |\n",
      "|                                         |                        |                  N/A |\n",
      "+-----------------------------------------+------------------------+----------------------+\n",
      "                                                                                         \n",
      "+-----------------------------------------------------------------------------------------+\n",
      "| Processes:                                                                              |\n",
      "|  GPU   GI   CI        PID   Type   Process name                              GPU Memory |\n",
      "|        ID   ID                                                               Usage      |\n",
      "|=========================================================================================|\n",
      "|  No running processes found                                                             |\n",
      "+-----------------------------------------------------------------------------------------+\n"
     ]
    }
   ],
   "source": [
    "!nvidia-smi"
   ]
  },
  {
   "cell_type": "code",
   "execution_count": 2,
   "id": "3ac1e92c",
   "metadata": {},
   "outputs": [
    {
     "name": "stdout",
     "output_type": "stream",
     "text": [
      "\u001b[2K   \u001b[90m━━━━━━━━━━━━━━━━━━━━━━━━━━━━━━━━━━━━━━━━\u001b[0m \u001b[32m2.2/2.2 MB\u001b[0m \u001b[31m13.0 MB/s\u001b[0m eta \u001b[36m0:00:00\u001b[0ma \u001b[36m0:00:01\u001b[0m\n",
      "\u001b[2K   \u001b[90m━━━━━━━━━━━━━━━━━━━━━━━━━━━━━━━━━━━━━━━━\u001b[0m \u001b[32m4.8/4.8 MB\u001b[0m \u001b[31m98.2 MB/s\u001b[0m eta \u001b[36m0:00:00\u001b[0m:00:01\u001b[0m\n",
      "\u001b[2K   \u001b[90m━━━━━━━━━━━━━━━━━━━━━━━━━━━━━━━━━━━━━━━━\u001b[0m \u001b[32m363.4/363.4 MB\u001b[0m \u001b[31m4.8 MB/s\u001b[0m eta \u001b[36m0:00:00\u001b[0m:00:01\u001b[0m00:01\u001b[0m\n",
      "\u001b[2K   \u001b[90m━━━━━━━━━━━━━━━━━━━━━━━━━━━━━━━━━━━━━━━━\u001b[0m \u001b[32m13.8/13.8 MB\u001b[0m \u001b[31m106.6 MB/s\u001b[0m eta \u001b[36m0:00:00\u001b[0m00:01\u001b[0m0:01\u001b[0m\n",
      "\u001b[2K   \u001b[90m━━━━━━━━━━━━━━━━━━━━━━━━━━━━━━━━━━━━━━━━\u001b[0m \u001b[32m24.6/24.6 MB\u001b[0m \u001b[31m80.8 MB/s\u001b[0m eta \u001b[36m0:00:00\u001b[0m:00:01\u001b[0m00:01\u001b[0m\n",
      "\u001b[2K   \u001b[90m━━━━━━━━━━━━━━━━━━━━━━━━━━━━━━━━━━━━━━━━\u001b[0m \u001b[32m883.7/883.7 kB\u001b[0m \u001b[31m46.6 MB/s\u001b[0m eta \u001b[36m0:00:00\u001b[0m\n",
      "\u001b[2K   \u001b[90m━━━━━━━━━━━━━━━━━━━━━━━━━━━━━━━━━━━━━━━━\u001b[0m \u001b[32m664.8/664.8 MB\u001b[0m \u001b[31m2.6 MB/s\u001b[0m eta \u001b[36m0:00:00\u001b[0m:00:01\u001b[0m00:01\u001b[0m\n",
      "\u001b[2K   \u001b[90m━━━━━━━━━━━━━━━━━━━━━━━━━━━━━━━━━━━━━━━━\u001b[0m \u001b[32m211.5/211.5 MB\u001b[0m \u001b[31m8.2 MB/s\u001b[0m eta \u001b[36m0:00:00\u001b[0m:00:01\u001b[0m00:01\u001b[0m\n",
      "\u001b[2K   \u001b[90m━━━━━━━━━━━━━━━━━━━━━━━━━━━━━━━━━━━━━━━━\u001b[0m \u001b[32m56.3/56.3 MB\u001b[0m \u001b[31m31.3 MB/s\u001b[0m eta \u001b[36m0:00:00\u001b[0m:00:01\u001b[0m00:01\u001b[0m\n",
      "\u001b[2K   \u001b[90m━━━━━━━━━━━━━━━━━━━━━━━━━━━━━━━━━━━━━━━━\u001b[0m \u001b[32m127.9/127.9 MB\u001b[0m \u001b[31m13.6 MB/s\u001b[0m eta \u001b[36m0:00:00\u001b[0m00:01\u001b[0m00:01\u001b[0m\n",
      "\u001b[2K   \u001b[90m━━━━━━━━━━━━━━━━━━━━━━━━━━━━━━━━━━━━━━━━\u001b[0m \u001b[32m207.5/207.5 MB\u001b[0m \u001b[31m6.6 MB/s\u001b[0m eta \u001b[36m0:00:00\u001b[0m:00:01\u001b[0m00:01\u001b[0m\n",
      "\u001b[2K   \u001b[90m━━━━━━━━━━━━━━━━━━━━━━━━━━━━━━━━━━━━━━━━\u001b[0m \u001b[32m21.1/21.1 MB\u001b[0m \u001b[31m14.5 MB/s\u001b[0m eta \u001b[36m0:00:00\u001b[0m:00:01\u001b[0m00:01\u001b[0m\n",
      "\u001b[?25hNote: you may need to restart the kernel to use updated packages.\n"
     ]
    }
   ],
   "source": [
    "%pip install -q whitespace-correction wordsegment"
   ]
  },
  {
   "cell_type": "code",
   "execution_count": 3,
   "id": "934dda04",
   "metadata": {},
   "outputs": [
    {
     "name": "stderr",
     "output_type": "stream",
     "text": [
      "2025-09-21 11:46:44.245542: E external/local_xla/xla/stream_executor/cuda/cuda_fft.cc:477] Unable to register cuFFT factory: Attempting to register factory for plugin cuFFT when one has already been registered\n",
      "WARNING: All log messages before absl::InitializeLog() is called are written to STDERR\n",
      "E0000 00:00:1758455204.416708      60 cuda_dnn.cc:8310] Unable to register cuDNN factory: Attempting to register factory for plugin cuDNN when one has already been registered\n",
      "E0000 00:00:1758455204.466262      60 cuda_blas.cc:1418] Unable to register cuBLAS factory: Attempting to register factory for plugin cuBLAS when one has already been registered\n"
     ]
    }
   ],
   "source": [
    "import pandas as pd\n",
    "from whitespace_correction import WhitespaceCorrector\n",
    "from wordsegment import load, segment\n",
    "load()"
   ]
  },
  {
   "cell_type": "markdown",
   "id": "27470908",
   "metadata": {},
   "source": [
    "## [wordsegment](https://github.com/grantjenks/python-wordsegment)"
   ]
  },
  {
   "cell_type": "code",
   "execution_count": 4,
   "id": "271a0a1d",
   "metadata": {},
   "outputs": [
    {
     "data": {
      "text/plain": [
       "['this', 'is', 'a', 'test']"
      ]
     },
     "execution_count": 4,
     "metadata": {},
     "output_type": "execute_result"
    }
   ],
   "source": [
    "segment('thisisatest')"
   ]
  },
  {
   "cell_type": "code",
   "execution_count": 5,
   "id": "05efcf02",
   "metadata": {},
   "outputs": [
    {
     "data": {
      "text/plain": [
       "['14']"
      ]
     },
     "execution_count": 5,
     "metadata": {},
     "output_type": "execute_result"
    }
   ],
   "source": [
    "segment('куплюайфон14про')"
   ]
  },
  {
   "cell_type": "code",
   "execution_count": 6,
   "id": "f8aac71e",
   "metadata": {},
   "outputs": [
    {
     "data": {
      "text/plain": [
       "[]"
      ]
     },
     "execution_count": 6,
     "metadata": {},
     "output_type": "execute_result"
    }
   ],
   "source": [
    "segment('ищудомвПодмосковье')"
   ]
  },
  {
   "cell_type": "markdown",
   "id": "aefb31f9",
   "metadata": {},
   "source": [
    "## [whitespace-correction](https://github.com/ad-freiburg/whitespace-correction)"
   ]
  },
  {
   "cell_type": "code",
   "execution_count": 7,
   "id": "e66fa314",
   "metadata": {},
   "outputs": [],
   "source": [
    "working_dir = '/kaggle/working'"
   ]
  },
  {
   "cell_type": "code",
   "execution_count": 8,
   "id": "bb9c0384",
   "metadata": {},
   "outputs": [
    {
     "name": "stdout",
     "output_type": "stream",
     "text": [
      "ModelInfo(name='eo_large_byte', description='Byte-level model combining fast inference and good quality', tags=['default', 'lang::en', 'arch::encoder-only', 'input::byte'])\n",
      "ModelInfo(name='eo_large_char', description='Character-level model combining fast inference and good quality', tags=['lang::en', 'arch::encoder-only', 'input::char'])\n",
      "ModelInfo(name='eo_large_char_v1', description='Character-level model combining fast inference and good quality, trained with a different loss than eo_large_char', tags=['lang::en', 'arch::encoder-only', 'input::char'])\n",
      "ModelInfo(name='eo_larger_byte', description='Larger and slower than eo_large_byte, but also more accuracte', tags=['lang::en', 'arch::encoder-only', 'input::byte'])\n",
      "ModelInfo(name='eo_medium_byte', description='Smaller and faster than eo_large_byte, but less accurate', tags=['lang::en', 'arch::encoder-only', 'input::byte'])\n",
      "ModelInfo(name='eo_medium_char', description='Smaller and faster than eo_large_char, but less accurate', tags=['lang::en', 'arch::encoder-only', 'input::char'])\n",
      "ModelInfo(name='eo_medium_char_v1', description='Smaller and faster than eo_large_char_v1, but less accurate', tags=['lang::en', 'arch::encoder-only', 'input::char'])\n",
      "ModelInfo(name='ed_large_char', description='Similar to eo_large_byte in size and quality, but slower due to its autoregressive decoder', tags=['lang::en', 'arch::encoder-decoder', 'input::char', 'output::char'])\n",
      "ModelInfo(name='ed_medium_char', description='Smaller and faster than ed_large, but less accurate', tags=['lang::en', 'arch::encoder-decoder', 'input::char', 'output::char'])\n"
     ]
    }
   ],
   "source": [
    "for i in WhitespaceCorrector.available_models():\n",
    "    print(i)"
   ]
  },
  {
   "cell_type": "markdown",
   "id": "3f7de6ba",
   "metadata": {},
   "source": [
    "- Загрузка моделей через API работает очень долго, поэтому загружаю веса через wget\n",
    "\n",
    "| Версия модели  | Путь к файлу |\n",
    "|----------|----------|\n",
    "| eo_larger_byte | eo_huge_byte_v2 |\n",
    "| eo_large_char_v1 | eo_large_v1 |\n",
    "| eo_large_char | eo_large_char_v2 |\n",
    "| eo_large_byte | eo_large_byte_v2 |"
   ]
  },
  {
   "cell_type": "code",
   "execution_count": 53,
   "id": "7a7a557d",
   "metadata": {},
   "outputs": [],
   "source": [
    "base_url = 'https://ad-publications.informatik.uni-freiburg.de/ACL_whitespace_correction_transformer_BHW_2023.materials/{}'\n",
    "\n",
    "version2path = {\n",
    "    'eo_larger_byte': base_url.format('eo_huge_byte_v2.zip'),\n",
    "    'eo_large_byte': base_url.format('eo_large_byte_v2.zip'),\n",
    "    'eo_large_char': base_url.format('eo_large_char_v2.zip'),\n",
    "    'eo_large_char_v1': base_url.format('eo_large_v1.zip'),\n",
    "    'ed_large_char': base_url.format('ed_large_v1.zip'),\n",
    "}"
   ]
  },
  {
   "cell_type": "code",
   "execution_count": 62,
   "id": "eb7e78d5",
   "metadata": {},
   "outputs": [
    {
     "name": "stdout",
     "output_type": "stream",
     "text": [
      "total 1124448\n",
      "drwxr-xr-x 3 root root      4096 Sep 21 11:59 .\n",
      "drwxr-xr-x 5 root root      4096 Sep 21 11:44 ..\n",
      "-rw-r--r-- 1 root root 180381455 Nov  2  2023 ed_large_v1.zip\n",
      "-rw-r--r-- 1 root root 512800909 Oct 25  2023 eo_huge_byte_v2.zip\n",
      "-rw-r--r-- 1 root root 152965213 Oct 25  2023 eo_large_byte_v2.zip\n",
      "-rw-r--r-- 1 root root 152635167 Oct 25  2023 eo_large_char_v2.zip\n",
      "-rw-r--r-- 1 root root 152626961 Oct 25  2023 eo_large_v1.zip\n",
      "drwxr-xr-x 2 root root      4096 Sep 21 11:44 .virtual_documents\n"
     ]
    }
   ],
   "source": [
    "!ls -la {working_dir}"
   ]
  },
  {
   "cell_type": "code",
   "execution_count": 63,
   "id": "00cd95bc",
   "metadata": {},
   "outputs": [],
   "source": [
    "model_version = 'eo_large_byte'"
   ]
  },
  {
   "cell_type": "code",
   "execution_count": 56,
   "id": "0b7b2c92",
   "metadata": {},
   "outputs": [
    {
     "name": "stdout",
     "output_type": "stream",
     "text": [
      "--2025-09-21 11:59:31--  https://ad-publications.informatik.uni-freiburg.de/ACL_whitespace_correction_transformer_BHW_2023.materials/ed_large_v1.zip\n",
      "Resolving ad-publications.informatik.uni-freiburg.de (ad-publications.informatik.uni-freiburg.de)... 132.230.150.102\n",
      "Connecting to ad-publications.informatik.uni-freiburg.de (ad-publications.informatik.uni-freiburg.de)|132.230.150.102|:443... connected.\n",
      "HTTP request sent, awaiting response... 200 OK\n",
      "Length: 180381455 (172M) [application/zip]\n",
      "Saving to: ‘/kaggle/working/ed_large_v1.zip’\n",
      "\n",
      "ed_large_v1.zip     100%[===================>] 172.02M  22.1MB/s    in 8.8s    \n",
      "\n",
      "2025-09-21 11:59:40 (19.5 MB/s) - ‘/kaggle/working/ed_large_v1.zip’ saved [180381455/180381455]\n",
      "\n"
     ]
    }
   ],
   "source": [
    "!wget {version2path[model_version]} -P {working_dir}"
   ]
  },
  {
   "cell_type": "code",
   "execution_count": 64,
   "id": "6315541a",
   "metadata": {},
   "outputs": [
    {
     "name": "stderr",
     "output_type": "stream",
     "text": [
      "2025-09-21 12:00:10,703 [WHITESPACE CORRECTION DOWNLOAD] [INFO] eo_large_byte is already downloaded to download directory /kaggle/working\n",
      "2025-09-21 12:00:11,172 [WHITESPACE CORRECTION] [INFO] running eo_large_byte whitespace corrector on device Tesla P100-PCIE-16GB (16,269MiB memory, 6.0 compute capability, 56 multiprocessors)\n"
     ]
    }
   ],
   "source": [
    "# create a whitespace corrector instance, using the default pretrained model\n",
    "cor = WhitespaceCorrector.from_pretrained(\n",
    "    model=model_version,\n",
    "    download_dir=working_dir,\n",
    ")"
   ]
  },
  {
   "cell_type": "code",
   "execution_count": 71,
   "id": "5fb5877f",
   "metadata": {},
   "outputs": [
    {
     "data": {
      "text/plain": [
       "'plese, repiar this sentense!'"
      ]
     },
     "execution_count": 71,
     "metadata": {},
     "output_type": "execute_result"
    }
   ],
   "source": [
    "cor.correct_text(\"p l e se,repiar thissen ten se!\")"
   ]
  },
  {
   "cell_type": "code",
   "execution_count": 72,
   "id": "1088a6da",
   "metadata": {},
   "outputs": [
    {
     "data": {
      "text/plain": [
       "'куплюай фон 14 про'"
      ]
     },
     "execution_count": 72,
     "metadata": {},
     "output_type": "execute_result"
    }
   ],
   "source": [
    "cor.correct_text(\"куплюайфон14про\")"
   ]
  },
  {
   "cell_type": "code",
   "execution_count": 73,
   "id": "b83720c2",
   "metadata": {},
   "outputs": [
    {
     "data": {
      "text/plain": [
       "'ищудом в Подмосковье'"
      ]
     },
     "execution_count": 73,
     "metadata": {},
     "output_type": "execute_result"
    }
   ],
   "source": [
    "cor.correct_text(\"ищудомвПодмосковье\")"
   ]
  },
  {
   "cell_type": "code",
   "execution_count": 74,
   "id": "333adce9",
   "metadata": {},
   "outputs": [
    {
     "data": {
      "text/plain": [
       "'сдаюк варти русмебелью и техникой'"
      ]
     },
     "execution_count": 74,
     "metadata": {},
     "output_type": "execute_result"
    }
   ],
   "source": [
    "cor.correct_text(\"сдаюквартирусмебельюитехникой\")"
   ]
  },
  {
   "cell_type": "code",
   "execution_count": 75,
   "id": "f4ae6dec",
   "metadata": {},
   "outputs": [
    {
     "data": {
      "text/plain": [
       "'новый диван достав ка недорого'"
      ]
     },
     "execution_count": 75,
     "metadata": {},
     "output_type": "execute_result"
    }
   ],
   "source": [
    "cor.correct_text(\"новыйдивандоставканедорого\")"
   ]
  },
  {
   "cell_type": "markdown",
   "id": "df7a80af",
   "metadata": {},
   "source": [
    "Также авторы статьи [1] в `README.md` рассказали о подходе `BID+`: \"`beam search` with a combination of a `unidirectional character-level LSTM language model` and a `bidirectional LSTM classification model` to score whitespace insertions or deletions.\" Но после поиска я не нашел открытой имплементации этой модели.\n",
    "\n",
    "Вывод:\n",
    "- После нескольких визуальных тестов лучше всего себя показала модель `eo_large_byte` и `eo_larger_byte`\n",
    "- Она лучше остальных справляется с русским текстом, но это точно не тот результат, которого мы ожидаем\n",
    "- Оставил примеры коррекции для этой модели выше в ноутбуке"
   ]
  },
  {
   "cell_type": "markdown",
   "id": "a6a57c76",
   "metadata": {},
   "source": []
  }
 ],
 "metadata": {
  "kernelspec": {
   "display_name": "Python 3 (ipykernel)",
   "language": "python",
   "name": "python3"
  }
 },
 "nbformat": 4,
 "nbformat_minor": 5
}
