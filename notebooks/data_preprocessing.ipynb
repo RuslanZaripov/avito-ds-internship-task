{
 "cells": [
  {
   "cell_type": "markdown",
   "id": "68bfa77f",
   "metadata": {},
   "source": [
    "# Подготовка данных для тренировки модели\n",
    "\n",
    "- Для начала сконструируем текст из произведений, чтобы оценить метрики модели на старте\n",
    "- На платформе [Kaggle](https://www.kaggle.com/datasets/d0rj3228/russian-literature) нашел хорошо структурированный датасет произведений"
   ]
  },
  {
   "cell_type": "code",
   "execution_count": 3,
   "id": "489651d5",
   "metadata": {},
   "outputs": [
    {
     "name": "stdout",
     "output_type": "stream",
     "text": [
      "/Users/rzaripov/Desktop/ITMO/avito-ds-internship-task\n"
     ]
    }
   ],
   "source": [
    "%cd .."
   ]
  },
  {
   "cell_type": "code",
   "execution_count": 17,
   "id": "948b58ed",
   "metadata": {},
   "outputs": [],
   "source": [
    "import os\n",
    "import zipfile\n",
    "import glob\n",
    "from tqdm.auto import tqdm\n",
    "import re\n",
    "from collections import Counter\n",
    "import string"
   ]
  },
  {
   "cell_type": "code",
   "execution_count": 6,
   "id": "e0c6e126",
   "metadata": {},
   "outputs": [],
   "source": [
    "data_dir = 'data/russian-literature'"
   ]
  },
  {
   "cell_type": "code",
   "execution_count": 7,
   "id": "a95bff6e",
   "metadata": {},
   "outputs": [],
   "source": [
    "os.makedirs(data_dir, exist_ok=True)"
   ]
  },
  {
   "cell_type": "code",
   "execution_count": null,
   "id": "efc7e60d",
   "metadata": {},
   "outputs": [
    {
     "name": "stdout",
     "output_type": "stream",
     "text": [
      "  % Total    % Received % Xferd  Average Speed   Time    Time     Time  Current\n",
      "                                 Dload  Upload   Total   Spent    Left  Speed\n",
      "  0     0    0     0    0     0      0      0 --:--:-- --:--:-- --:--:--     0\n",
      "100 20.5M  100 20.5M    0     0  7168k      0  0:00:02  0:00:02 --:--:-- 8937k\n"
     ]
    }
   ],
   "source": [
    "#!/bin/bash\n",
    "!curl -L -o {data_dir}/russian-literature.zip\\\n",
    "  https://www.kaggle.com/api/v1/datasets/download/d0rj3228/russian-literature"
   ]
  },
  {
   "cell_type": "code",
   "execution_count": null,
   "id": "41e0dac1",
   "metadata": {},
   "outputs": [],
   "source": [
    "!unzip -O utf-8 -o -q {data_dir}/russian-literature.zip -d {data_dir}"
   ]
  },
  {
   "cell_type": "code",
   "execution_count": 8,
   "id": "256a7349",
   "metadata": {},
   "outputs": [],
   "source": [
    "def process_file(file_path):\n",
    "    \"\"\"Read file and clean text.\"\"\"\n",
    "    with open(file_path, \"r\", encoding=\"utf-8\") as f:\n",
    "        text = f.read()\n",
    "    \n",
    "    # Remove tabs and newlines\n",
    "    text = text.replace(\"\\n\", \" \").replace(\"\\t\", \" \")\n",
    "\n",
    "    # Optionally collapse multiple spaces\n",
    "    text = \" \".join(text.split())\n",
    "    return text"
   ]
  },
  {
   "cell_type": "code",
   "execution_count": 9,
   "id": "da24b524",
   "metadata": {},
   "outputs": [],
   "source": [
    "def process_all_files(output_file):\n",
    "    folders_to_process = [\"prose\", \"publicism\"]\n",
    "    \n",
    "    with open(output_file, 'w', encoding='utf-8') as outfile:\n",
    "        for folder in folders_to_process:\n",
    "            folder_path = f'{data_dir}/{folder}'\n",
    "\n",
    "            if not os.path.exists(folder_path):\n",
    "                continue\n",
    "            \n",
    "            txt_pattern = os.path.join(folder_path, \"**\", \"*.txt\")\n",
    "            txt_files = glob.glob(txt_pattern, recursive=True)\n",
    "            \n",
    "            print(f\"Found {len(txt_files)} files in {folder_path}\")\n",
    "            \n",
    "            for txt_file in tqdm(txt_files, desc=f\"Processing {folder_path}\"):\n",
    "                text = process_file(txt_file)\n",
    "                if text:\n",
    "                    outfile.write(text + \" \")"
   ]
  },
  {
   "cell_type": "code",
   "execution_count": 10,
   "id": "950484fa",
   "metadata": {},
   "outputs": [],
   "source": [
    "output_file = f'{data_dir}/training_data_russian_literature.txt'"
   ]
  },
  {
   "cell_type": "code",
   "execution_count": 11,
   "id": "f00549c2",
   "metadata": {},
   "outputs": [
    {
     "name": "stdout",
     "output_type": "stream",
     "text": [
      "Found 269 files in data/russian-literature/prose\n"
     ]
    },
    {
     "name": "stderr",
     "output_type": "stream",
     "text": [
      "Processing data/russian-literature/prose: 100%|██████████| 269/269 [00:00<00:00, 548.88it/s]\n"
     ]
    },
    {
     "name": "stdout",
     "output_type": "stream",
     "text": [
      "Found 26 files in data/russian-literature/publicism\n"
     ]
    },
    {
     "name": "stderr",
     "output_type": "stream",
     "text": [
      "Processing data/russian-literature/publicism: 100%|██████████| 26/26 [00:00<00:00, 2469.14it/s]\n"
     ]
    }
   ],
   "source": [
    "process_all_files(output_file)"
   ]
  },
  {
   "cell_type": "code",
   "execution_count": 15,
   "id": "1f89275c",
   "metadata": {},
   "outputs": [
    {
     "data": {
      "text/plain": [
       "0.06160872895270586"
      ]
     },
     "execution_count": 15,
     "metadata": {},
     "output_type": "execute_result"
    }
   ],
   "source": [
    "os.path.getsize(output_file) / 1024 ** 3"
   ]
  },
  {
   "cell_type": "code",
   "execution_count": 18,
   "id": "31b547da",
   "metadata": {},
   "outputs": [],
   "source": [
    "def analyze_symbols(filename):\n",
    "    with open(filename, 'r', encoding='utf-8') as file:\n",
    "        text = file.read()\n",
    "    \n",
    "    char_counter = Counter(text)\n",
    "    \n",
    "    symbols = {char: count for char, count in char_counter.items() \n",
    "               if not char.isspace()}\n",
    "    \n",
    "    return sorted(symbols.items(), key=lambda x: x[1], reverse=True)\n",
    "\n",
    "symbols = analyze_symbols(output_file)"
   ]
  },
  {
   "cell_type": "code",
   "execution_count": 19,
   "id": "28bf894f",
   "metadata": {},
   "outputs": [
    {
     "data": {
      "text/plain": [
       "[('о', 3205703),\n",
       " ('е', 2458264),\n",
       " ('а', 2291190),\n",
       " ('и', 1909490),\n",
       " ('н', 1807461),\n",
       " ('т', 1731853),\n",
       " ('с', 1486543),\n",
       " ('л', 1374696),\n",
       " ('в', 1278746),\n",
       " ('р', 1189235),\n",
       " ('к', 944286),\n",
       " ('м', 893448),\n",
       " ('д', 867177),\n",
       " (',', 830774),\n",
       " ('у', 810240),\n",
       " ('п', 699358),\n",
       " ('я', 624182),\n",
       " ('ь', 576643),\n",
       " ('ы', 536645),\n",
       " ('г', 523339),\n",
       " ('б', 494544),\n",
       " ('з', 465634),\n",
       " ('ч', 460831),\n",
       " ('.', 390535),\n",
       " ('й', 316944),\n",
       " ('ж', 312867),\n",
       " ('ш', 256599),\n",
       " ('х', 247373),\n",
       " ('ю', 190488),\n",
       " ('-', 146158),\n",
       " ('ц', 97758),\n",
       " ('щ', 86729),\n",
       " ('–', 80611),\n",
       " ('э', 72278),\n",
       " ('!', 63656),\n",
       " ('Н', 63043),\n",
       " ('—', 62599),\n",
       " ('В', 54288),\n",
       " ('П', 52162),\n",
       " ('?', 50259),\n",
       " ('О', 41789),\n",
       " ('А', 40603),\n",
       " (';', 40595),\n",
       " (':', 37350),\n",
       " ('С', 37130),\n",
       " ('К', 34873),\n",
       " ('ф', 34276),\n",
       " ('И', 33208),\n",
       " ('М', 32682),\n",
       " ('Д', 28547),\n",
       " ('Т', 28342),\n",
       " ('Я', 26460),\n",
       " ('e', 24060),\n",
       " ('…', 23733),\n",
       " ('«', 19061),\n",
       " ('»', 18906),\n",
       " ('Г', 17665),\n",
       " ('Б', 17332),\n",
       " ('Л', 14904),\n",
       " ('ё', 14235),\n",
       " ('Ч', 14062),\n",
       " ('\"', 13906),\n",
       " ('Р', 13515),\n",
       " ('a', 12583),\n",
       " ('Е', 12433),\n",
       " ('Э', 11720),\n",
       " ('s', 11516),\n",
       " ('i', 11315),\n",
       " (')', 11181),\n",
       " ('n', 11020),\n",
       " ('(', 10969),\n",
       " ('З', 10542),\n",
       " ('r', 10255),\n",
       " ('1', 9995),\n",
       " ('o', 9489),\n",
       " ('t', 9360),\n",
       " ('Ф', 9096),\n",
       " ('u', 8806),\n",
       " ('У', 8800),\n",
       " ('2', 7954),\n",
       " ('ъ', 7869),\n",
       " ('l', 7617),\n",
       " ('I', 6985),\n",
       " ('m', 6867),\n",
       " ('3', 6384),\n",
       " ('Х', 5982),\n",
       " ('c', 5044),\n",
       " ('8', 4924),\n",
       " ('d', 4907),\n",
       " ('[', 3619),\n",
       " (']', 3617),\n",
       " ('4', 3497),\n",
       " ('p', 3491),\n",
       " ('0', 3409),\n",
       " ('6', 3397),\n",
       " ('7', 3284),\n",
       " ('5', 3105),\n",
       " ('Ж', 3026),\n",
       " ('Ш', 3003),\n",
       " ('9', 2637),\n",
       " ('v', 2534),\n",
       " ('X', 2445),\n",
       " ('h', 2373),\n",
       " ('V', 2021),\n",
       " ('&', 1794),\n",
       " ('#', 1794),\n",
       " (\"'\", 1767),\n",
       " ('f', 1644),\n",
       " ('*', 1596),\n",
       " ('b', 1574),\n",
       " ('g', 1568),\n",
       " ('q', 1270),\n",
       " ('Ю', 1249),\n",
       " ('Ц', 1095),\n",
       " ('M', 930),\n",
       " ('z', 812),\n",
       " ('{', 772),\n",
       " ('}', 769),\n",
       " ('é', 735),\n",
       " ('j', 727),\n",
       " ('L', 690),\n",
       " ('>', 660),\n",
       " ('<', 656),\n",
       " ('P', 585),\n",
       " ('́', 578),\n",
       " ('x', 536),\n",
       " ('N', 535),\n",
       " ('A', 504),\n",
       " ('C', 493),\n",
       " ('B', 493),\n",
       " ('“', 490),\n",
       " ('„', 481),\n",
       " ('S', 462),\n",
       " ('’', 460),\n",
       " ('Щ', 391),\n",
       " ('y', 384),\n",
       " ('D', 351),\n",
       " ('J', 349),\n",
       " ('E', 308),\n",
       " ('è', 229),\n",
       " ('k', 200),\n",
       " ('O', 186),\n",
       " ('H', 179),\n",
       " ('R', 175),\n",
       " ('w', 171),\n",
       " ('ó', 159),\n",
       " ('T', 147),\n",
       " ('G', 146),\n",
       " ('і', 141),\n",
       " ('à', 138),\n",
       " ('\\x7f', 136),\n",
       " ('F', 132),\n",
       " ('Q', 118),\n",
       " ('/', 103),\n",
       " ('Ь', 101),\n",
       " ('№', 99),\n",
       " ('ê', 94),\n",
       " ('Й', 93),\n",
       " ('ô', 90),\n",
       " ('K', 83),\n",
       " ('Ы', 74),\n",
       " ('U', 71),\n",
       " ('W', 62),\n",
       " ('̀', 56),\n",
       " ('”', 30),\n",
       " ('Z', 29),\n",
       " ('ç', 28),\n",
       " ('â', 28),\n",
       " ('á', 21),\n",
       " ('=', 21),\n",
       " ('ë', 17),\n",
       " ('î', 14),\n",
       " ('ü', 14),\n",
       " ('І', 13),\n",
       " ('_', 11),\n",
       " ('`', 11),\n",
       " ('ö', 10),\n",
       " ('ù', 9),\n",
       " ('ò', 9),\n",
       " ('%', 7),\n",
       " ('û', 7),\n",
       " ('ä', 7),\n",
       " ('σ', 7),\n",
       " ('ï', 6),\n",
       " ('Y', 6),\n",
       " ('|', 5),\n",
       " ('œ', 5),\n",
       " ('τ', 5),\n",
       " ('ρ', 5),\n",
       " ('Ъ', 4),\n",
       " ('‑', 4),\n",
       " ('°', 4),\n",
       " ('Ќ', 4),\n",
       " ('\\x01', 4),\n",
       " ('ο', 4),\n",
       " ('~', 3),\n",
       " ('Ç', 3),\n",
       " ('Љ', 3),\n",
       " ('є', 3),\n",
       " ('ε', 3),\n",
       " ('γ', 3),\n",
       " ('ι', 3),\n",
       " ('ω', 3),\n",
       " ('φ', 3),\n",
       " ('ύ', 3),\n",
       " ('ν', 3),\n",
       " ('η', 3),\n",
       " ('Ё', 2),\n",
       " ('ß', 2),\n",
       " ('ý', 2),\n",
       " ('Ü', 2),\n",
       " ('½', 2),\n",
       " ('ἐ', 2),\n",
       " ('κ', 2),\n",
       " ('ά', 2),\n",
       " ('α', 2),\n",
       " ('·', 1),\n",
       " ('Ô', 1),\n",
       " ('ú', 1),\n",
       " ('¾', 1),\n",
       " ('§', 1),\n",
       " ('^', 1),\n",
       " ('É', 1),\n",
       " ('Ê', 1),\n",
       " ('@', 1),\n",
       " ('ѣ', 1),\n",
       " ('í', 1),\n",
       " ('ї', 1),\n",
       " ('\\x19', 1),\n",
       " ('\\x07', 1),\n",
       " ('Θ', 1),\n",
       " ('υ', 1),\n",
       " ('λ', 1),\n",
       " ('ώ', 1)]"
      ]
     },
     "execution_count": 19,
     "metadata": {},
     "output_type": "execute_result"
    }
   ],
   "source": [
    "symbols"
   ]
  },
  {
   "cell_type": "code",
   "execution_count": null,
   "id": "a2e7b502",
   "metadata": {},
   "outputs": [],
   "source": []
  }
 ],
 "metadata": {
  "kernelspec": {
   "display_name": "py310",
   "language": "python",
   "name": "python3"
  },
  "language_info": {
   "codemirror_mode": {
    "name": "ipython",
    "version": 3
   },
   "file_extension": ".py",
   "mimetype": "text/x-python",
   "name": "python",
   "nbconvert_exporter": "python",
   "pygments_lexer": "ipython3",
   "version": "3.10.18"
  }
 },
 "nbformat": 4,
 "nbformat_minor": 5
}
